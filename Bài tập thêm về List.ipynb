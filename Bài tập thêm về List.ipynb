{
 "cells": [
  {
   "cell_type": "markdown",
   "id": "5761f2a7",
   "metadata": {},
   "source": [
    "Hãy kiểm tra mảng số nguyên có tồn tại hai giá trị không liên tiếp hay không ?"
   ]
  },
  {
   "cell_type": "code",
   "execution_count": null,
   "id": "a0acf4b7",
   "metadata": {},
   "outputs": [],
   "source": []
  },
  {
   "cell_type": "markdown",
   "id": "ae867e74",
   "metadata": {},
   "source": [
    "Hãy kiểm tra mảng số nguyên có tồn tại giá trị chẵn hay không? Nếu không tồn tại giá trị chẵn trả về giá trị 0, hay ngược lại trả về 1."
   ]
  },
  {
   "cell_type": "code",
   "execution_count": null,
   "id": "1abdd057",
   "metadata": {},
   "outputs": [],
   "source": [
    "def chan_le(l):\n",
    "    demchan=0\n",
    "    for i in l:\n",
    "        if i%2==0:\n",
    "            demchan+=1\n",
    "    if demchan > 0:\n",
    "        return 1\n",
    "    else:\n",
    "        return 0\n",
    "l=[9,8,7,6,5]\n",
    "print(chan_le(l))"
   ]
  },
  {
   "cell_type": "markdown",
   "id": "5a49eda8",
   "metadata": {},
   "source": [
    "Hãy cho biết mảng các số nguyên có toàn số chẵn hay không? Nếu có tồn tại giá trị lẻ trả về giá trị 0, ngược lại trả về 1."
   ]
  },
  {
   "cell_type": "code",
   "execution_count": null,
   "id": "9b4d2f7d",
   "metadata": {},
   "outputs": [],
   "source": [
    "def chan_le(l):\n",
    "    chan=0\n",
    "    for i in l:\n",
    "        if i%2==0:\n",
    "            chan+=1\n",
    "        else:\n",
    "            return 0\n",
    "    if chan == len(l):\n",
    "        return 1\n",
    "l = [4,2,6]\n",
    "print(chan_le(l))"
   ]
  },
  {
   "cell_type": "markdown",
   "id": "a736df1e",
   "metadata": {},
   "source": [
    "Hãy kiểm tra mảng một chiều các số thực có đối xứng hay không?"
   ]
  },
  {
   "cell_type": "code",
   "execution_count": null,
   "id": "c360bf6e",
   "metadata": {},
   "outputs": [],
   "source": [
    "def doi_xung(l):\n",
    "    if len(l)%2 != 0:\n",
    "        return \"Không đối xứng\"\n",
    "    else:\n",
    "        for i in range(len(l)):\n",
    "            if l[i] != l[int((len(l)-i-1))]:\n",
    "                return \"Không đối xứng\"\n",
    "        return \"Có đối xứng\"\n",
    "\n",
    "l=[1,2,3,3,2,1]\n",
    "print(doi_xung(l))            "
   ]
  },
  {
   "cell_type": "markdown",
   "id": "975b9821",
   "metadata": {},
   "source": [
    "Ta định nghĩa một mảng có tính chẵn lẻ, khi tổng của hai phần tử liên tiếp trong mảng luôn luôn là số lẻ. Hãy viết hàm kiểm tra mảng a có tính chẵn lẻ hay không?"
   ]
  },
  {
   "cell_type": "code",
   "execution_count": null,
   "id": "7ec6108e",
   "metadata": {},
   "outputs": [],
   "source": []
  },
  {
   "cell_type": "markdown",
   "id": "434a04e0",
   "metadata": {},
   "source": [
    "Hãy kiểm tra mảng có tăng dần hay không?"
   ]
  },
  {
   "cell_type": "code",
   "execution_count": null,
   "id": "ba375910",
   "metadata": {},
   "outputs": [],
   "source": []
  },
  {
   "cell_type": "markdown",
   "id": "2dca9538",
   "metadata": {},
   "source": [
    "Hãy kiểm tra mảng có giảm dần hay không?"
   ]
  },
  {
   "cell_type": "code",
   "execution_count": null,
   "id": "eb5154cc",
   "metadata": {},
   "outputs": [],
   "source": []
  },
  {
   "cell_type": "markdown",
   "id": "24dd211d",
   "metadata": {},
   "source": [
    "Hãy cho biết các phần tử trong mảng có lập thành cấp số cộng không? Nếu có hãy chỉ ra công sai d"
   ]
  },
  {
   "cell_type": "code",
   "execution_count": null,
   "id": "e9dda389",
   "metadata": {},
   "outputs": [],
   "source": [
    "def csc(l):\n",
    "    for i in range(len(l)-2):\n",
    "        if l[i+1] != (l[i] + l[i+2])/2:\n",
    "            return False\n",
    "    return \"công sai là: \" + str(l[i+1] - l[i])\n",
    "\n",
    "l=[1,2,3,4,5,6,7]\n",
    "print(csc(l))"
   ]
  },
  {
   "cell_type": "markdown",
   "id": "19be5057",
   "metadata": {},
   "source": [
    "Hãy cho biết các phần tử trong mảng có bằng nhau không?"
   ]
  },
  {
   "cell_type": "code",
   "execution_count": null,
   "id": "1ff05a5d",
   "metadata": {},
   "outputs": [],
   "source": [
    "def bang_nhau(l):\n",
    "    for i in range(len(l)-1):\n",
    "        if l[i] == l[i+1]:\n",
    "            return True\n",
    "    return False\n",
    "l = [1,1,1,1,1]\n",
    "print(bang_nhau(l))"
   ]
  },
  {
   "cell_type": "markdown",
   "id": "58268599",
   "metadata": {},
   "source": [
    "Người ta định nghĩa một mảng được gọi là “dạng sóng” khi phần tử có giá trị số I lớn hơn hoặc nhỏ hơn hai phần tử xung quanh nó. Hãy viết hàm kiểm tra trong a sóng hay không?"
   ]
  },
  {
   "cell_type": "code",
   "execution_count": null,
   "id": "1572fb15",
   "metadata": {},
   "outputs": [],
   "source": [
    "def wave_form(l):\n",
    "    a=1\n",
    "    \n",
    "    if len(l)%2 != 0:\n",
    "        index = ((len(l)-1)/2)\n",
    "    else: \n",
    "        index = ((len(l)/2))\n",
    "    \n",
    "    for i in range(int(index)):\n",
    "        print(l[i+a-1],l[i+a],l[i+a+1])\n",
    "        if (l[i+a-1] < l[i+a] > l[i+a+1]) or (l[i+a-1] > l[i+a] < l[i+a+1]):\n",
    "            a+=1\n",
    "        else:\n",
    "            return False\n",
    "    return True\n",
    "l=[2,1,4,1,6,1,3]\n",
    "print(wave_form(l))"
   ]
  },
  {
   "cell_type": "markdown",
   "id": "3a06a75d",
   "metadata": {},
   "source": [
    "Hãy đếm số lượng giá trị trong mảng thỏa tính chất: “lớn hơn tất cả các giá trị đứng đằng trước nó”"
   ]
  },
  {
   "cell_type": "code",
   "execution_count": null,
   "id": "33f9e4a3",
   "metadata": {},
   "outputs": [],
   "source": [
    "def num_max(l):\n",
    "    m = l[0]\n",
    "    dem=1\n",
    "    for i in l:\n",
    "        if i > m:\n",
    "            dem+=1\n",
    "            m = i\n",
    "    return dem\n",
    "l=[3,7,2,9]\n",
    "print(num_max(l))        "
   ]
  },
  {
   "cell_type": "raw",
   "id": "9fb5aa92",
   "metadata": {},
   "source": [
    "# Hãy trộn hai mảng bất kì lại thành 1 mảng được sắp thứ tự tăng dần"
   ]
  },
  {
   "cell_type": "code",
   "execution_count": null,
   "id": "d91a0d7c",
   "metadata": {},
   "outputs": [],
   "source": [
    "l1=[3,7,8,2]\n",
    "l2=[4,2,9,1]\n",
    "\n",
    "def l_tangdan(l1, l2):\n",
    "    new_l = []\n",
    "    l3 = l1 + l2\n",
    "    for i in range(len(l3-1)):\n",
    "        for a in range(i+1,len(l3)):\n",
    "            if l3[a] <  \n",
    "            \n",
    "    "
   ]
  },
  {
   "cell_type": "markdown",
   "id": "c2a03df7",
   "metadata": {},
   "source": [
    "Hãy đưa các số chẵn trong mảng về đầu mảng, số lẻ về cuối mảng và các phần tử 0 năm ở giữa"
   ]
  },
  {
   "cell_type": "code",
   "execution_count": null,
   "id": "2595ba23",
   "metadata": {},
   "outputs": [],
   "source": [
    "l=[1,2,3,4,5,6,7,8,9,0]\n",
    "def sapxep(l):\n",
    "    new_l = []\n",
    "    for i in range(len(l)):\n",
    "        if l[i]%2 == 0 and l[i] != 0:\n",
    "            new_l.append(l[i])\n",
    "    for i in range(len(l)):\n",
    "        if l[i] == 0:\n",
    "            new_l.append(l[i])\n",
    "    for i in range(len(l)):\n",
    "        if l[i]%2 != 0:\n",
    "            new_l.append(l[i])\n",
    "    return new_l\n",
    "print(sapxep(l))"
   ]
  },
  {
   "cell_type": "markdown",
   "id": "88a5356c",
   "metadata": {},
   "source": [
    "Hãy đưa các số chia hết cho 3 về đầu mảng"
   ]
  },
  {
   "cell_type": "code",
   "execution_count": 2,
   "id": "2015e143",
   "metadata": {},
   "outputs": [
    {
     "name": "stdout",
     "output_type": "stream",
     "text": [
      "[9, 6, 3, 8, 2, 5, 1, 7]\n"
     ]
    }
   ],
   "source": [
    "l = [8,2,5,3,1,6,7,9]\n",
    "def handle(l):\n",
    "    l1 = []\n",
    "    for i in l:\n",
    "        if i%3 == 0:\n",
    "            l1.insert(0,i)\n",
    "            \n",
    "    for i in l:\n",
    "        if i%3 != 0:\n",
    "            l1.append(i)\n",
    "    return l1\n",
    "\n",
    "print(handle(l))"
   ]
  },
  {
   "cell_type": "markdown",
   "id": "873d2a46",
   "metadata": {},
   "source": [
    "Hãy xuất mảng theo yêu cầu: các phần tử chẵn nằm trên một hàng, các phần tử lẻ nằm ở hàng tiếp theo"
   ]
  },
  {
   "cell_type": "code",
   "execution_count": null,
   "id": "99109b77",
   "metadata": {},
   "outputs": [],
   "source": [
    "d = [1,2,8,4,7,0,5,3]"
   ]
  },
  {
   "cell_type": "markdown",
   "id": "5e2c226d",
   "metadata": {},
   "source": [
    "Hãy biến đổi mảng bằng cách thay các giá trị lớn nhất bằng giá trị nhỏ nhất và ngược lại"
   ]
  },
  {
   "cell_type": "code",
   "execution_count": null,
   "id": "62eefa1a",
   "metadata": {},
   "outputs": [],
   "source": [
    "//bài sửa trong file finished\n",
    "def pos_min(l):\n",
    "    minn=9*(10**9)\n",
    "    vitri_min=-2\n",
    "    for i in range(len(l)):\n",
    "        if l[i] < minn:\n",
    "            minn = l[i]\n",
    "            vitri_min=i\n",
    "    return vitri_min\n",
    "\n",
    "def pos_max(l):\n",
    "    maxx=0\n",
    "    vitri_max=-2\n",
    "    for i in range(len(l)):\n",
    "        if l[i] > maxx:\n",
    "            maxx = l[i]\n",
    "            vitri_max=i\n",
    "    return vitri_max\n",
    "        \n",
    "def doi_max_min(l):\n",
    "    l1 = l\n",
    "    for i in range(len(l)):\n",
    "        print(l1)\n",
    "        ma = l1[pos_max(l)]\n",
    "        mi = l1[pos_min(l)] \n",
    "        \n",
    "        l1[pos_max(l)] = mi\n",
    "        l1[pos_min(l)] = ma\n",
    "        \n",
    "        l.pop(pos_max(l))\n",
    "        l.pop(pos_min(l))\n",
    "        \n",
    "    return l1\n",
    "        \n",
    "l = [1,2,3,4,5]\n",
    "print(doi_max_min(l))"
   ]
  },
  {
   "cell_type": "markdown",
   "id": "4c5e92fa",
   "metadata": {},
   "source": [
    "Hãy đảo ngược thứ tự các số chẵn và các số lẻ trong mảng mà vẫn giữ nguyên vị trí tương đối của chúng"
   ]
  },
  {
   "cell_type": "code",
   "execution_count": null,
   "id": "0d6ba5f3",
   "metadata": {},
   "outputs": [],
   "source": [
    "[2,5,7,14] ~~> [5,2,14,7]\n",
    "## List phải có số lượng số lẻ bằng với số lượng số chẳn"
   ]
  }
 ],
 "metadata": {
  "kernelspec": {
   "display_name": "Python 3 (ipykernel)",
   "language": "python",
   "name": "python3"
  },
  "language_info": {
   "codemirror_mode": {
    "name": "ipython",
    "version": 3
   },
   "file_extension": ".py",
   "mimetype": "text/x-python",
   "name": "python",
   "nbconvert_exporter": "python",
   "pygments_lexer": "ipython3",
   "version": "3.10.6"
  }
 },
 "nbformat": 4,
 "nbformat_minor": 5
}
