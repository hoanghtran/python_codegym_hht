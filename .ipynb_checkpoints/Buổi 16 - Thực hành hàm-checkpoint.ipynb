{
 "cells": [
  {
   "cell_type": "markdown",
   "id": "028ffec3",
   "metadata": {},
   "source": [
    "# Thực hành hàm\n",
    "\n",
    "### Bài 1\n",
    "\n",
    "Viết hàm có dữ liệu đầu vào là 2 số a và b, số nào lớn hơn thì in bảng cửu chương của số đó"
   ]
  },
  {
   "cell_type": "code",
   "execution_count": 7,
   "id": "1974966b",
   "metadata": {},
   "outputs": [
    {
     "name": "stdout",
     "output_type": "stream",
     "text": [
      "9 x 0 = 0\n",
      "9 x 1 = 9\n",
      "9 x 2 = 18\n",
      "9 x 3 = 27\n",
      "9 x 4 = 36\n",
      "9 x 5 = 45\n",
      "9 x 6 = 54\n",
      "9 x 7 = 63\n",
      "9 x 8 = 72\n"
     ]
    }
   ],
   "source": [
    "def bangcuuchuong(a, b):\n",
    "    if a > b:\n",
    "        for i in range(9):\n",
    "            print(a, \"x\", i, \"=\", a*i)\n",
    "    else:\n",
    "        for i in range(9):\n",
    "            print(b, \"x\", i, \"=\", b*i)\n",
    "            \n",
    "bangcuuchuong(5, 9)\n",
    "    "
   ]
  },
  {
   "cell_type": "code",
   "execution_count": null,
   "id": "c0ae061d",
   "metadata": {},
   "outputs": [],
   "source": []
  },
  {
   "cell_type": "markdown",
   "id": "9de8ffaa",
   "metadata": {},
   "source": [
    "### Bài 2\n",
    "\n",
    "Viết hàm `xoachuoi` có dữ liệu đầu vào là 2 chuỗi a và b, hãy tìm trong chuỗi a có chuỗi b hay không, nếu có hãy xóa toán bộ chuỗi b trong a.\n",
    "\n",
    "Sau đó trả về chuỗi a mới\n",
    "\n",
    "Ví dụ:\n",
    "\n",
    "chuoi1 = \"xin chào các bạn, các bạn có khỏe không?\"\n",
    "\n",
    "chuoi2 = \"các bạn\"\n",
    "\n",
    "chuoi3 = xoachuoi(chuoi1,chuoi2)\n",
    "\n",
    "print(chuoi3)\n",
    "\n",
    "Kết quả in ra là:\n",
    "xin chào ,  có khỏe không"
   ]
  },
  {
   "cell_type": "code",
   "execution_count": null,
   "id": "05de1584",
   "metadata": {},
   "outputs": [],
   "source": [
    "def xoachuoi(a,b):\n",
    "    index = len(b)\n",
    "    for i in range(index):\n",
    "        "
   ]
  },
  {
   "cell_type": "markdown",
   "id": "d626394e",
   "metadata": {},
   "source": [
    "### Bài 3\n",
    "\n",
    "Viết hàm `kiemtramatkhau` với dữ liệu đầu vào là 1 chuỗi có công dụng như sau:\n",
    "\n",
    "Kiểm tra xem chuỗi đầu vào có phải là mật khẩu mạnh hay không, nếu có trả về True, nếu không trả về False\n",
    "\n",
    "Mật khẩu mạnh là mật khẩu phải có ít nhất 1 chữ hoa, 1 chữ thường, 1 số và 1 ký tự đặc biệt"
   ]
  },
  {
   "cell_type": "code",
   "execution_count": 10,
   "id": "875d88f5",
   "metadata": {},
   "outputs": [
    {
     "name": "stdout",
     "output_type": "stream",
     "text": [
      "False\n"
     ]
    }
   ],
   "source": [
    "def kiemtramatkhau(chuoi):\n",
    "    kt_hoa = False\n",
    "    kt_thuong = False\n",
    "    kt_so = False\n",
    "    kt_db = False\n",
    "    for i in chuoi:\n",
    "        if i.isupper():\n",
    "            kt_hoa = True\n",
    "        elif i.islower():\n",
    "            kt_thuong = True\n",
    "        elif i.isnumeric():\n",
    "             kt_so = True\n",
    "        else:\n",
    "             kt_db = True\n",
    "        if kt_hoa and kt_thuong and kt_so and kt_db:\n",
    "            return True ### nēu tät cá diēu kién deu düng ~~>>> return True thi return False sē khöng chay\n",
    "         #### nhung nēu chay hēt for rõi má tãt cá dieu kién chuta düng my) return False\n",
    "        return False\n",
    "matkhau = \"abcASAA23\"\n",
    "print(kiemtramatkhau(matkhau))\n"
   ]
  },
  {
   "cell_type": "markdown",
   "id": "1572568f",
   "metadata": {},
   "source": [
    "### Bài 4\n",
    "\n",
    "Viết hàm có 5 dữ liệu đầu vào là 5 số nguyên, tìm giá trị lớn nhì trong 5 số đó"
   ]
  },
  {
   "cell_type": "code",
   "execution_count": 6,
   "id": "876707ae",
   "metadata": {},
   "outputs": [
    {
     "name": "stdout",
     "output_type": "stream",
     "text": [
      "12\n"
     ]
    }
   ],
   "source": [
    "def nd_max(a,b,c,d,e):\n",
    "    if a > b:\n",
    "        a, b = b, a\n",
    "    if b > c:\n",
    "        b, c = c, b\n",
    "    if c > d:\n",
    "        c, d = d, c\n",
    "    if d > e:\n",
    "        d, e = e, d\n",
    "    if a > b:\n",
    "        a, b = b, a\n",
    "    if b > c:\n",
    "        b, c = c, b\n",
    "    if c > d:\n",
    "        c, d = d, c\n",
    "    return d\n",
    "        \n",
    "print(nd_max(9,7,12,24,10))"
   ]
  },
  {
   "cell_type": "markdown",
   "id": "974d7da1",
   "metadata": {},
   "source": [
    "### Bài 5\n",
    "\n",
    "Nhập vào 2 cặp tọa độ tâm đường tròn và 2 bán kính R\n",
    "\n",
    "Hãy vẽ 2 hình tròn theo tọa độ và bán kính trên (tọa độ thứ nhất và bán kính thứ nhất là hình tròn thứ nhất, tọa độ thứ 2 với bán kính thứ 2 là hình tròn thứ hai)\n",
    "\n",
    "Viết hàm kiểm tra xem 2 hình tròn trên cắt nhau bao nhiêu điểm"
   ]
  },
  {
   "cell_type": "code",
   "execution_count": null,
   "id": "f7722021",
   "metadata": {},
   "outputs": [],
   "source": []
  },
  {
   "cell_type": "markdown",
   "id": "a2157de8",
   "metadata": {},
   "source": [
    "### Bài 6\n",
    "\n",
    "Nhập vào 2 tọa độ là 2 đỉnh của một hình chữ nhật\n",
    "\n",
    "Sau đó\n",
    "\n",
    "Nhập vào tọa độ tâm đường tròn và bán kính R\n",
    "\n",
    "Hãy vẽ hình hình chữ nhật và đường tròn trên\n",
    "\n",
    "Viết hàm kiểm tra xem đường tròn trên và hình chữ nhật cắt nhau tại bao nhiêu điểm"
   ]
  },
  {
   "cell_type": "code",
   "execution_count": null,
   "id": "e0d7b1a2",
   "metadata": {},
   "outputs": [],
   "source": []
  },
  {
   "cell_type": "markdown",
   "id": "d1491579",
   "metadata": {},
   "source": [
    "### Bài 7\n",
    "\n",
    "Viết hàm kiểm tra số nguyên tố\n",
    "\n",
    "Viết hàm kiểm tra số hoàn hảo\n",
    "\n",
    "Viết hàm kiểm tra số chính phương\n",
    "\n",
    "Viết hàm kiểm tra số Armstrong\n",
    "\n",
    "Nhập vào một chuỗi, hãy lọc và tìm ra những số ở trong chuỗi (2 chữ số liền nhau là một chuỗi)\n",
    "\n",
    "Ví dụ chuỗi: \"AB25SDc5DSjjh52\"\n",
    "\n",
    "Trong chuỗi này ta có 3 số: 25, 5 và 52\n",
    "\n",
    "Sau khi lọc số, dùng các hàm trên để kiểm tra và thực hiện như sau:\n",
    "\n",
    "Cho biến S\n",
    "\n",
    "- Nếu số đó là số nguyên tố, ta thực hiện S += số đó\n",
    "- Nếu số đó là số hoàn hảo, ta thực hiện S -= số đó\n",
    "- Nếu số đó là số chính phương, ta thực hiện S /= số đó\n",
    "- Nếu đó là số Armstrong ta cho S = 0\n",
    "\n",
    "Hãy tính và in S"
   ]
  },
  {
   "cell_type": "code",
   "execution_count": 3,
   "id": "0b699e33",
   "metadata": {},
   "outputs": [
    {
     "name": "stdout",
     "output_type": "stream",
     "text": [
      "Nhập vào một số dương:9\n",
      "True\n"
     ]
    }
   ],
   "source": [
    "def sohoanhao(a):\n",
    "    tong_uoc=0\n",
    "    for i in range(1,a):\n",
    "        if a%i==0:\n",
    "            tong_uoc+=i\n",
    "    \n",
    "    if tong_uoc==a:\n",
    "        return True\n",
    "    \n",
    "#######################\n",
    "\n",
    "check = False\n",
    "\n",
    "while check==False:\n",
    "    a = input(\"Nhập vào một số dương:\")\n",
    "    if a.isalpha():\n",
    "        print(\"Nhập sai định dạng\")\n",
    "    else:\n",
    "        b = int(a)\n",
    "        if b>0 and b%1==0:\n",
    "            check = True\n",
    "        \n",
    "def prime_check(b):\n",
    "    for i in range(2, b):\n",
    "        if b%i==0:\n",
    "            return False\n",
    "    else:\n",
    "        return True\n",
    "    \n",
    "######################\n",
    "\n",
    "def sochinhphuong(a):\n",
    "    if (a**2)%1==0:\n",
    "        return True\n",
    "print(sochinhphuong(9))\n",
    "\n",
    "######################\n",
    "\n",
    "def sochinhphuong(a):\n",
    "    if a<0:\n",
    "        return False\n",
    "    elif (a**0.5)%1==0:\n",
    "        return True\n",
    "    return False\n",
    "print(sochinhphuong(-10))"
   ]
  },
  {
   "cell_type": "code",
   "execution_count": 28,
   "id": "2e3fca96",
   "metadata": {},
   "outputs": [
    {
     "name": "stdout",
     "output_type": "stream",
     "text": [
      "None\n"
     ]
    }
   ],
   "source": [
    "def soArmstrong(a):\n",
    "    tong = 0\n",
    "    for i in str(a):\n",
    "        tong += int(i)**int(len(str(a)))\n",
    "    if tong == int(a):\n",
    "        return True\n",
    "print(soArmstrong(1635))"
   ]
  }
 ],
 "metadata": {
  "kernelspec": {
   "display_name": "Python 3 (ipykernel)",
   "language": "python",
   "name": "python3"
  },
  "language_info": {
   "codemirror_mode": {
    "name": "ipython",
    "version": 3
   },
   "file_extension": ".py",
   "mimetype": "text/x-python",
   "name": "python",
   "nbconvert_exporter": "python",
   "pygments_lexer": "ipython3",
   "version": "3.10.6"
  }
 },
 "nbformat": 4,
 "nbformat_minor": 5
}
