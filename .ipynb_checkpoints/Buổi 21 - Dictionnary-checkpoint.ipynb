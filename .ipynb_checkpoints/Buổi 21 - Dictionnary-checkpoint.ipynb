{
 "cells": [
  {
   "cell_type": "markdown",
   "id": "a20f121d",
   "metadata": {},
   "source": [
    "# Dictionnary\n",
    "\n",
    "Dictionnary là một dạng list đặc biệt, nó khác list ở chỗ không lưu trữ các giá trị theo chỉ số vị trí, thay vào đó Dictionary sẽ lưu trữ các giá trị theo key\n",
    "\n",
    "##### Tài liệu tham khảo: https://www.w3schools.com/python/python_dictionaries.asp\n",
    "\n",
    "### Khai báo một dictionary\n",
    "\n",
    "Cú pháp:\n",
    "\n",
    "`<tên dictionary> = {}`\n",
    "\n",
    "### Dictionary được khai báo bằng hai dấu hoặc nhọn\n",
    "\n",
    "Đây là một dictionary rỗng\n",
    "\n",
    "<b>Ví dụ 1:</b>\n",
    "\n",
    "`a = {}`\n",
    "\n",
    "a là một dictionary rỗng\n",
    "\n",
    "<b>Ví dụ 2:</b>\n",
    "\n",
    "`a = {\"tên\": \"Nguyễn Tâm Điền\", \"tuổi\": 13, \"giới tính\": \"Nam\"}`\n",
    "\n",
    "b là một dictionary có 3 key, mõi key đều có một giá trị riêng biệt\n",
    "\n",
    "Key có thể mang kiểu dữ liệu là chuỗi hoặc số\n",
    "\n",
    "##### Mỗi một key đều phải có giá trị của riêng nó, không thể khai báo key không có giá trị\n",
    "\n",
    "<b>Hãy khai báo một dictionary có 3 phần tử</b>"
   ]
  },
  {
   "cell_type": "code",
   "execution_count": null,
   "id": "d835f461",
   "metadata": {},
   "outputs": [],
   "source": [
    "a = {\"tên\": \"Nguyễn Tâm Điền\", \"tuổi\": 13, \"giới tính\": \"Nam\"}\n",
    "print(a)"
   ]
  },
  {
   "cell_type": "markdown",
   "id": "be1e321c",
   "metadata": {},
   "source": [
    "### Thêm key vào dictionary\n",
    "\n",
    "Cú pháp:\n",
    "\n",
    "`<tên dictionary>[<key>] = <giá trị>`\n",
    "\n",
    "<b>Ví dụ 1:</b>\n",
    "\n",
    "`a = {}\n",
    "a[\"tên\"] = \"NTD\"`\n",
    "\n",
    "a là một dictionary có một phần tử, phần tử đó có key là \"tên\" và giá trị của key đó là \"NTD\"\n",
    "\n",
    "##### Lưu ý, nếu trong trường hợp đã tồn tại key trong dictionary, dùng lệnh trên sẽ thay đổi giá trị key đó (không phải thêm key khác vào)\n",
    "\n",
    "<b>Ví dụ 2:</b>\n",
    "\n",
    "`a = {}\n",
    "a[\"tên\"] = \"NTD\"\n",
    "a[\"tên\"] = \"Nguyễn Tâm Điền\"`\n",
    "\n",
    "a vẫn là một dictionary có một phần tử, phần tử đó có key là \"tên\" và giá trị của key đó là \"Nguyễn Tâm Điền\"\n",
    "\n",
    "<b>Hãy khai báo một dictionary không có phần tử nào, sau đó thêm một phần tử vào dictionary đó</b>"
   ]
  },
  {
   "cell_type": "code",
   "execution_count": null,
   "id": "7573ebef",
   "metadata": {},
   "outputs": [],
   "source": [
    "print(2%16)"
   ]
  },
  {
   "cell_type": "markdown",
   "id": "65c98825",
   "metadata": {},
   "source": [
    "### Truy xuất phần tử trong dictionary\n",
    "\n",
    "Cú pháp:\n",
    "\n",
    "`<tên dictionary>[<key>]`\n",
    "\n",
    "<b>Ví dụ:</b>\n",
    "\n",
    "`a = {\"tên\": \"Nguyễn Tâm Điền\", \"tuổi\": 13, \"giới tính\": \"Nam\"}\n",
    "print(a[\"tên\"])`\n",
    "\n",
    "Màn hình sẽ in: Nguyễn Tâm Điền\n",
    "\n",
    "<b>Hãy khai báo một dictionary rồi in ra màn hình một phần tử bất kỳ trong dictionary đó</b>"
   ]
  },
  {
   "cell_type": "code",
   "execution_count": null,
   "id": "f6159385",
   "metadata": {},
   "outputs": [],
   "source": []
  },
  {
   "cell_type": "markdown",
   "id": "afa92f87",
   "metadata": {},
   "source": [
    "### Sao chép dictionary\n",
    "\n",
    "##### Việc sao chép dictionary được thực hiện hệt như sao chép list, chúng ta cần phải sử dụng lệnh copy()"
   ]
  },
  {
   "cell_type": "markdown",
   "id": "ef7e800d",
   "metadata": {},
   "source": [
    "### Duyệt dictionary bằng lệnh for\n",
    "\n",
    "Cú pháp:\n",
    "\n",
    "`for <tên biến> in <tên dictionary>:`\n",
    "\n",
    "Biến sẽ có giá trị là từng key trong dictionary\n",
    "\n",
    "<b>Ví dụ:</b>\n",
    "\n",
    "`a = {\"tên\": \"Nguyễn Tâm Điền\", \"tuổi\": 13, \"giới tính\": \"Nam\"}\n",
    "for i in a:\n",
    "    print(i)`\n",
    "    \n",
    "Màn hình sẽ in ra:\n",
    "\n",
    "tên\n",
    "\n",
    "tuổi\n",
    "\n",
    "giới tính\n",
    "\n",
    "<b>Hãy khai báo một dictionary rồi in ra màn hình toàn bộ giá trị trong dictionary đó</b>"
   ]
  },
  {
   "cell_type": "code",
   "execution_count": null,
   "id": "3bdd1508",
   "metadata": {},
   "outputs": [],
   "source": []
  },
  {
   "cell_type": "markdown",
   "id": "1982f4b1",
   "metadata": {},
   "source": [
    "### Bài tập"
   ]
  },
  {
   "cell_type": "markdown",
   "id": "3060a950",
   "metadata": {},
   "source": [
    "Viết chương trình đếm số lần xuất hiện của một từ trong một văn bản nhất định"
   ]
  },
  {
   "cell_type": "code",
   "execution_count": null,
   "id": "af64832c",
   "metadata": {},
   "outputs": [],
   "source": []
  },
  {
   "cell_type": "markdown",
   "id": "57c6f1e7",
   "metadata": {},
   "source": [
    "Viết chương trình cho phép người dùng quản lý sản phẩm, gồm các chức năng sau: \n",
    "\n",
    "- Hiển thị danh sách sản phẩm\n",
    "- Thêm sản phẩm mới vào danh sách\n",
    "- Sửa tên của sản phẩm trong danh sách\n",
    "- Xoá một sản phẩm khỏi danh sách"
   ]
  },
  {
   "cell_type": "code",
   "execution_count": null,
   "id": "8541b8c3",
   "metadata": {},
   "outputs": [],
   "source": [
    "D_sanpham = {\"SP01\":\"Cơm gà\",\"SP02\":\"Cơm sườn\"}"
   ]
  },
  {
   "cell_type": "code",
   "execution_count": null,
   "id": "050ea46a",
   "metadata": {},
   "outputs": [
    {
     "name": "stdout",
     "output_type": "stream",
     "text": [
      "Nhập H nếu bạn muốn hiển thị danh sách sản phẩm\n",
      "Nhập T nếu bạn muốn thêm sản phẩm\n",
      "Nhập S nếu bạn muốn sửa sản phẩm\n",
      "Nhập X nếu bạn muốn xóa sản phẩm\n",
      "Nhập 0 nếu bạn muốn dừng chương trình\n",
      "Lệnh của bạn:x\n"
     ]
    }
   ],
   "source": [
    "D_sp = {\"SP01\":\"Cơm gà\",\"SP02\":\"Cơm sườn\",\"SP03\":\"Cơm xá xíu\"}\n",
    "\n",
    "def hienthisanpham(D_sp):\n",
    "    print(\"---------------------------------------\\n\\n\")\n",
    "    for i in D_sp:\n",
    "        print(i +\": \" + D_sp[i])\n",
    "    print(\"\\n\\n---------------------------------------\")\n",
    "    \n",
    "def themsanpham(D_sp):\n",
    "    last_order = 0\n",
    "    for i in D_sp:\n",
    "        if int(i[2:4]) > last_order:\n",
    "            last_order = int(i[2:4])\n",
    "    while True:\n",
    "        key = input(\"Nhập món bạn muốn thêm theo cú pháp SPxx với xx là số thứ tự tiếp theo của món mới: \").upper()\n",
    "        if key == \"0\":\n",
    "            print(\"Đã trở về màn hình chính!\")\n",
    "            break\n",
    "        if key[0:2] != \"SP\":\n",
    "            print(\"Sai cú pháp\")\n",
    "            continue\n",
    "        if int(key[2:4]) <= int(last_order):\n",
    "            print(\"ID đã tồn tại/ sai cú pháp, mời nhập lại!\")\n",
    "            continue\n",
    "        elif int(key[2:4]) == int(last_order) + 1:\n",
    "            ten_sp = input(\"Nhập tên món mới: \")\n",
    "            if key == \"0\":\n",
    "                print(\"Đã trở về màn hình chính!\")\n",
    "                break\n",
    "            D_sp[key] = ten_sp\n",
    "            hienthisanpham(D_sp)\n",
    "        else:\n",
    "            print(\"SPXX phải là số thứ tự tiếp theo trong menu!\")\n",
    "            \n",
    "def suatensanpham(D_sp):\n",
    "    key = input(\"Nhập ID sản phẩm theo cú pháp SPXX với XX là số thứ tự sản phẩm bạn muốn sửa: \").upper()\n",
    "    if key in D_sp:\n",
    "        ten_mon_moi = input(\"Nhập tên món mới mà bạn muốn thay vào: \")\n",
    "        D_sp[key] = ten_mon_moi\n",
    "        hienthisanpham(D_sp)      \n",
    "        \n",
    "def xoasanpham(D_sp):\n",
    "    key = input(\"Nhập ID sản phẩm theo cú pháp SPXX với XX là số thứ tự sản phẩm bạn muốn xóa: \").upper()\n",
    "    if key in D_sp:\n",
    "        del D_sp[key]       \n",
    "    D_sp2 = {}\n",
    "    for a in range(1, len(D_sp)+1):\n",
    "        if a<10:\n",
    "            a = \"0\" + str(a)\n",
    "        new_key = \"SP{}\".format(str(a))\n",
    "        for i in D_sp:\n",
    "            D_sp2[new_key] = D_sp[i]\n",
    "    hienthisanpham(D_sp2)\n",
    "    \n",
    "        \n",
    "while True:\n",
    "    print(\"Nhập H nếu bạn muốn hiển thị danh sách sản phẩm\")\n",
    "    print(\"Nhập T nếu bạn muốn thêm sản phẩm\")\n",
    "    print(\"Nhập S nếu bạn muốn sửa sản phẩm\")\n",
    "    print(\"Nhập X nếu bạn muốn xóa sản phẩm\")\n",
    "    print(\"Nhập 0 nếu bạn muốn dừng chương trình\")\n",
    "    command = input(\"Lệnh của bạn:\").upper()\n",
    "    if command == \"H\":\n",
    "        hienthisanpham(D_sp)\n",
    "    elif command == \"T\":\n",
    "        themsanpham(D_sp)\n",
    "    elif command == \"S\":\n",
    "        suatensanpham(D_sp)\n",
    "    elif command == \"X\":\n",
    "        xoasanpham(D_sp)\n",
    "    elif command == \"0\":\n",
    "        break"
   ]
  }
 ],
 "metadata": {
  "kernelspec": {
   "display_name": "Python 3 (ipykernel)",
   "language": "python",
   "name": "python3"
  },
  "language_info": {
   "codemirror_mode": {
    "name": "ipython",
    "version": 3
   },
   "file_extension": ".py",
   "mimetype": "text/x-python",
   "name": "python",
   "nbconvert_exporter": "python",
   "pygments_lexer": "ipython3",
   "version": "3.10.6"
  }
 },
 "nbformat": 4,
 "nbformat_minor": 5
}
