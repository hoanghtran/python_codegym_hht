{
 "cells": [
  {
   "cell_type": "markdown",
   "id": "dcdb816e",
   "metadata": {},
   "source": [
    "# Thực hành cấu trúc điều khiển\n",
    "\n",
    "### Bài 1\n",
    "\n",
    "Cho phương trình bậc 2: ax^2 + bx + c = 0\n",
    "\n",
    "Nhập a, b, c\n",
    "\n",
    "Giải và biện luận phương trình trên"
   ]
  },
  {
   "cell_type": "code",
   "execution_count": 26,
   "id": "b5a5c325",
   "metadata": {},
   "outputs": [
    {
     "name": "stdout",
     "output_type": "stream",
     "text": [
      "Nhập a:9\n",
      "Nhập b:8\n",
      "Nhập c:0\n",
      "Phương trình có 2 nghiệm lần lượt là 0.0 0.0\n"
     ]
    }
   ],
   "source": [
    "a = float(input(\"Nhập a:\"))\n",
    "b = float(input(\"Nhập b:\"))\n",
    "c = float(input(\"Nhập c:\"))\n",
    "\n",
    "delta = b**2 - 4*a*c\n",
    "\n",
    "if a == 0:\n",
    "    if b == 0:\n",
    "        print(c)\n",
    "    elif c == 0:\n",
    "        print(\"Phương trình có vô số nghiệm\")\n",
    "    else:\n",
    "        x = -c/b\n",
    "        print(x)\n",
    "elif a != 0:\n",
    "    if delta > 0:\n",
    "        x1 = (-b + delta**(1/2)) / (2*a)\n",
    "        x2 = (-b + delta**(1/2)) / (2*a)\n",
    "        print(\"Phương trình có 2 nghiệm lần lượt là\", x1, x2 )\n",
    "    else:\n",
    "        x3 = -b/(2*a)\n",
    "        print(\"Phương trình có nghiệm kép là\", x3)\n",
    "else:\n",
    "    print(\"Phương trình vô nghiệm\")\n",
    "    "
   ]
  },
  {
   "cell_type": "markdown",
   "id": "6f7d329d",
   "metadata": {},
   "source": [
    "### Bài 2\n",
    "\n",
    "Hãy nhập vào một số\n",
    "\n",
    "Xác định coi đó có phải là số nguyên tố hay không"
   ]
  },
  {
   "cell_type": "markdown",
   "id": "4f156f06",
   "metadata": {},
   "source": [
    "# a = int(input(\"Nhập vào một số:\"))\n",
    "\n",
    "uoc = 1\n",
    "\n",
    "dem = 0\n",
    "\n",
    "for i in range(a):\n",
    "    if a%uoc == 0:\n",
    "        print(uoc)\n",
    "        dem +=1\n",
    "    uoc += 1\n",
    "if dem <= 2:\n",
    "    print(\"Đây là số nguyên tố\")\n",
    "else: \n",
    "    print(\"Đây không phải là số nguyên tố\")"
   ]
  },
  {
   "cell_type": "markdown",
   "id": "75f7717b",
   "metadata": {},
   "source": [
    "### Bài 3\n",
    "\n",
    "Hãy nhập vào số n\n",
    "\n",
    "Hãy đếm số chữ số 0 tận cùng của n giai thừa\n",
    "\n",
    "(Bài này nâng cao, mọi người có thể bỏ qua)"
   ]
  },
  {
   "cell_type": "code",
   "execution_count": null,
   "id": "789e0e76",
   "metadata": {},
   "outputs": [],
   "source": []
  },
  {
   "cell_type": "markdown",
   "id": "29cd6c81",
   "metadata": {},
   "source": [
    "### Bài 4\n",
    "\n",
    "In ra tất cả các số chia hết cho 3 nhỏ hơn 100"
   ]
  },
  {
   "cell_type": "code",
   "execution_count": 8,
   "id": "0b848981",
   "metadata": {},
   "outputs": [
    {
     "name": "stdout",
     "output_type": "stream",
     "text": [
      "3\n",
      "6\n",
      "9\n",
      "12\n",
      "15\n",
      "18\n",
      "21\n",
      "24\n",
      "27\n",
      "30\n",
      "33\n",
      "36\n",
      "39\n",
      "42\n",
      "45\n",
      "48\n",
      "51\n",
      "54\n",
      "57\n",
      "60\n",
      "63\n",
      "66\n",
      "69\n",
      "72\n",
      "75\n",
      "78\n",
      "81\n",
      "84\n",
      "87\n",
      "90\n",
      "93\n",
      "96\n",
      "99\n"
     ]
    }
   ],
   "source": [
    "a = 1\n",
    "for i in range (100):\n",
    "    if a%3 == 0:\n",
    "        print(a)\n",
    "    a += 1"
   ]
  },
  {
   "cell_type": "markdown",
   "id": "04dbf99b",
   "metadata": {},
   "source": [
    "### Bài 5\n",
    "\n",
    "In ra tất cả các số lẻ nhưng không chia hết cho 3 nhỏ hơn 100"
   ]
  },
  {
   "cell_type": "code",
   "execution_count": null,
   "id": "769eb439",
   "metadata": {},
   "outputs": [],
   "source": []
  },
  {
   "cell_type": "markdown",
   "id": "26dd47fb",
   "metadata": {},
   "source": [
    "### Bài 5\n",
    "\n",
    "Tại một cửa hàng nọ có menu như sau:\n",
    "\n",
    "1. Gà rán giá 35k\n",
    "2. Hamburger giá 50k\n",
    "3. Pesi giá 10k\n",
    "\n",
    "Nhập số lượng món hàng cần mua\n",
    "\n",
    "Tính và in ra tổng giá tiền (hiển thị có dấu chấm mỗi 3 chữ số để người dùng để quan sát)\n",
    "\n",
    "Nếu giá trị đơn hàng trên 2 triệu, giảm 10% cho khách, trên 4 triệu, giảm 15%\n",
    "\n",
    "Tính và in ra tổng giá tiền được giảm (hiển thị có dấu chấm mỗi 3 chữ số để người dùng để quan sát)\n",
    "\n",
    "Tính và in ra tổng giá tiền khách cần trả (hiển thị có dấu chấm mỗi 3 chữ số để người dùng để quan sát)\n",
    "\n",
    "In ra dòng chữ \"Cảm ơn quý khách đã mua hàng\""
   ]
  },
  {
   "cell_type": "code",
   "execution_count": null,
   "id": "8509df1e",
   "metadata": {},
   "outputs": [],
   "source": []
  },
  {
   "cell_type": "markdown",
   "id": "ab10a1ce",
   "metadata": {},
   "source": [
    "### Bài 6\n",
    "\n",
    "Nhập vào chiều cao (cm) và cân nặng (kg), tính số BMI và xét rồi xin kết quả theo dữ liệu sau:\n",
    "\n",
    "- BMI < 16: Gầy cấp độ III\n",
    "- 16 <= BMI < 17:  Gầy cấp độ II\n",
    "- 17<= BMI < 18.5: Gầy cấp độ I\n",
    "- 18.5 <= BMI < 25: Bình thường\n",
    "- 25 <= BMI < 30: Thừa cân\n",
    "- 30 <= BMI < 35 : Béo phì cấp độ I\n",
    "- 35 <= BMI < 40: Béo phì cấp độ II\n",
    "- BMI > 40: Béo phì cấp độ III"
   ]
  },
  {
   "cell_type": "code",
   "execution_count": 1,
   "id": "1058f441",
   "metadata": {},
   "outputs": [
    {
     "name": "stdout",
     "output_type": "stream",
     "text": [
      "Nhập chiều cao:175\n",
      "Nhập cân nặng:60\n",
      "1.4583333333333333\n"
     ]
    }
   ],
   "source": [
    "a = float(input(\"Nhập chiều cao:\"))\n",
    "b = float(input(\"Nhập cân nặng:\"))\n",
    "\n",
    "BMI = a/(b*2)\n",
    "print(BMI)\n",
    "\n",
    "if BMI > 40:\n",
    "    print(\"Béo phì cấp độ III\")\n",
    "elif BMI >= 35:\n",
    "    print(\"Béo phì cấp độ II\")\n",
    "elif BMI >= 30\n",
    "    print(\"Béo phì cấp độ I\")\n",
    "elif BMI >= 25:\n",
    "    print(\"Thừa cân\")\n",
    "elif BMI >= 18.5:\n",
    "    print(\"Bình thường\")\n",
    "elif BMI >= 17\n",
    "    print(\"Gầy cấp độ I\")\n",
    "elif BMI >="
   ]
  },
  {
   "cell_type": "markdown",
   "id": "f7620342",
   "metadata": {},
   "source": [
    "### Bài 7\n",
    "\n",
    "Nhập ngày, tháng, năm. Hãy tính và in ra màn hình kể từ đầu năm đến ngày vừa nhập là bao nhiêu ngày."
   ]
  },
  {
   "cell_type": "code",
   "execution_count": null,
   "id": "4c57f0a5",
   "metadata": {},
   "outputs": [],
   "source": []
  }
 ],
 "metadata": {
  "kernelspec": {
   "display_name": "Python 3 (ipykernel)",
   "language": "python",
   "name": "python3"
  },
  "language_info": {
   "codemirror_mode": {
    "name": "ipython",
    "version": 3
   },
   "file_extension": ".py",
   "mimetype": "text/x-python",
   "name": "python",
   "nbconvert_exporter": "python",
   "pygments_lexer": "ipython3",
   "version": "3.10.6"
  }
 },
 "nbformat": 4,
 "nbformat_minor": 5
}
